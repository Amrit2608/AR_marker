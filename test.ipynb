{
 "cells": [
  {
   "cell_type": "code",
   "execution_count": 1,
   "metadata": {},
   "outputs": [],
   "source": [
    "import cv2\n",
    "import numpy as np\n",
    "\n",
    "def generate_ar_marker(size, text):\n",
    "    # Create a blank white image\n",
    "    marker = np.ones((size, size), dtype=np.uint8) * 255\n",
    "\n",
    "    # Define the text properties\n",
    "    font = cv2.FONT_HERSHEY_SIMPLEX\n",
    "    font_scale = 1\n",
    "    font_thickness = 2\n",
    "    text_size = cv2.getTextSize(text, font, font_scale, font_thickness)[0]\n",
    "\n",
    "    # Calculate the position to center the text\n",
    "    text_position = ((size - text_size[0]) // 2, (size + text_size[1]) // 2)\n",
    "\n",
    "    # Put the text on the marker\n",
    "    cv2.putText(marker, text, text_position, font, font_scale, 0, font_thickness)\n",
    "\n",
    "    return marker\n",
    "\n",
    "# Define the size of the marker (e.g., 200x200 pixels)\n",
    "marker_size = 200\n",
    "\n",
    "# Generate the AR marker with the word \"AMRIT\"\n",
    "ar_marker = generate_ar_marker(marker_size, \"AMRIT\")\n",
    "\n",
    "# Display the generated AR marker\n",
    "cv2.imshow(\"AR Marker\", ar_marker)\n",
    "cv2.waitKey(0)\n",
    "cv2.destroyAllWindows()\n"
   ]
  }
 ],
 "metadata": {
  "kernelspec": {
   "display_name": "Python 3",
   "language": "python",
   "name": "python3"
  },
  "language_info": {
   "codemirror_mode": {
    "name": "ipython",
    "version": 3
   },
   "file_extension": ".py",
   "mimetype": "text/x-python",
   "name": "python",
   "nbconvert_exporter": "python",
   "pygments_lexer": "ipython3",
   "version": "3.10.7"
  }
 },
 "nbformat": 4,
 "nbformat_minor": 2
}
